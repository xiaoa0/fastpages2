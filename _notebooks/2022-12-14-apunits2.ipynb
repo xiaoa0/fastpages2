{
 "cells": [
  {
   "attachments": {},
   "cell_type": "markdown",
   "metadata": {},
   "source": [
    "# Units 6-10 Review\n",
    "\n",
    "- toc: true\n",
    "- categories: [CBUnits, jupyter]"
   ]
  },
  {
   "attachments": {},
   "cell_type": "markdown",
   "metadata": {},
   "source": [
    "## Grades\n",
    "\n",
    "| Unit | Grade | Homework |\n",
    "|---|---|---|\n",
    "| 6: Arrays | [0.9/1](https://docs.google.com/spreadsheets/d/1Hlh7VScUFSnHA3lovNoh1ao-QZu3vVuH_uCSw0tOoFU/edit#gid=0) | [ArrayMethods](https://xiaoa0.github.io/fastpages2/cbunits/jupyter/2022/11/30/arrays.html) |\n",
    "| 7: ArrayList | [0.9/1](https://docs.google.com/spreadsheets/d/1fe9gmbCkbB4ayEeo3xMYLjx1U96LZ4JjwGOvEHX2O0M/edit#gid=0) | [ArrayList sort](https://xiaoa0.github.io/fastpages2/cbunits/jupyter/2022/12/01/arraylist.html) |\n",
    "| 8: 2D Array | [0.9/1](https://aaditgupta21.github.io/fastpages-CSA/2022/12/14/Unit8Grading.html)  | [Class and methods](https://xiaoa0.github.io/fastpages2/cbunits/jupyter/2022/12/06/2Darray.html) |\n",
    "| 9: Inheritance | [0.83/1](https://docs.google.com/spreadsheets/d/1aPcCRONduEfKhgB69PHXTSY877S1h0V8AomY5OW_THs/edit#gid=0) | [Notebook](https://xiaoa0.github.io/fastpages2/cbunits/jupyter/2022/12/12/inheritance.html) |\n",
    "| 10: Recursion | [1/1](https://docs.google.com/spreadsheets/d/1ucOgxEYKWkggvw7SJ3TuuPXu0ElscD8unKX-RNxB3No/edit#gid=0) | [Review ticket](https://github.com/xiaoa0/fastpages2/issues/6) |\n",
    "| Total | 4.53/5 |  |"
   ]
  },
  {
   "attachments": {},
   "cell_type": "markdown",
   "metadata": {},
   "source": [
    "## Unit 6: Arrays\n",
    "Summary: "
   ]
  },
  {
   "attachments": {},
   "cell_type": "markdown",
   "metadata": {},
   "source": [
    "### Vocab\n",
    "Vocab definition"
   ]
  },
  {
   "cell_type": "code",
   "execution_count": 4,
   "metadata": {},
   "outputs": [
    {
     "name": "stdout",
     "output_type": "stream",
     "text": [
      "2\n",
      "2.0\n"
     ]
    }
   ],
   "source": [
    "// Vocab code"
   ]
  },
  {
   "attachments": {},
   "cell_type": "markdown",
   "metadata": {},
   "source": [
    "## Unit 7: ArrayList\n",
    "Summary: "
   ]
  },
  {
   "attachments": {},
   "cell_type": "markdown",
   "metadata": {},
   "source": [
    "### Vocab\n",
    "Vocab definition"
   ]
  },
  {
   "cell_type": "code",
   "execution_count": 9,
   "metadata": {},
   "outputs": [
    {
     "name": "stdout",
     "output_type": "stream",
     "text": [
      "Hippopotamus\n",
      "Hippo12\n"
     ]
    }
   ],
   "source": [
    "// vocab code"
   ]
  },
  {
   "attachments": {},
   "cell_type": "markdown",
   "metadata": {},
   "source": [
    "## Unit 8: 2D Array\n",
    "Summary:"
   ]
  },
  {
   "attachments": {},
   "cell_type": "markdown",
   "metadata": {},
   "source": [
    "### Vocab\n",
    "Vocab definition"
   ]
  },
  {
   "cell_type": "code",
   "execution_count": 21,
   "metadata": {},
   "outputs": [
    {
     "name": "stdout",
     "output_type": "stream",
     "text": [
      "true\n",
      "false\n",
      "true\n"
     ]
    }
   ],
   "source": [
    "// vocab code"
   ]
  },
  {
   "attachments": {},
   "cell_type": "markdown",
   "metadata": {},
   "source": [
    "## Unit 9: Inheritance\n",
    "Summary: "
   ]
  },
  {
   "attachments": {},
   "cell_type": "markdown",
   "metadata": {},
   "source": [
    "### Vocab\n",
    "Vocab definition"
   ]
  },
  {
   "cell_type": "code",
   "execution_count": 27,
   "metadata": {},
   "outputs": [
    {
     "name": "stdout",
     "output_type": "stream",
     "text": [
      "1\n",
      "3\n",
      "5\n",
      "7\n",
      "9\n"
     ]
    }
   ],
   "source": [
    "// vocab code"
   ]
  },
  {
   "attachments": {},
   "cell_type": "markdown",
   "metadata": {},
   "source": [
    "## Unit 10: Recursion\n",
    "Summary:"
   ]
  },
  {
   "attachments": {},
   "cell_type": "markdown",
   "metadata": {},
   "source": [
    "### Vocab\n",
    "Vocab definition"
   ]
  },
  {
   "cell_type": "code",
   "execution_count": 6,
   "metadata": {},
   "outputs": [],
   "source": [
    "// vocab code"
   ]
  }
 ],
 "metadata": {
  "kernelspec": {
   "display_name": "Java",
   "language": "java",
   "name": "java"
  },
  "language_info": {
   "codemirror_mode": "java",
   "file_extension": ".jshell",
   "mimetype": "text/x-java-source",
   "name": "java",
   "pygments_lexer": "java",
   "version": "17.0.5+9-LTS-191"
  },
  "orig_nbformat": 4,
  "vscode": {
   "interpreter": {
    "hash": "d805617afbb4f0c1c1591ddf7a48349c925092e949d00eefe7ca93909b4ab948"
   }
  }
 },
 "nbformat": 4,
 "nbformat_minor": 2
}
