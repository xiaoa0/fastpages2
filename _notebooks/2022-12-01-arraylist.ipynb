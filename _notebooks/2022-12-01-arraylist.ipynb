{
 "cells": [
  {
   "cell_type": "markdown",
   "metadata": {},
   "source": [
    "# \"Unit 7: ArrayList\"\n",
    "\n",
    "- category: [CBUnits]"
   ]
  },
  {
   "cell_type": "markdown",
   "metadata": {},
   "source": [
    "Arraylist is mutable and \n",
    "Loops for arraylist traversing: for, while, foreach loop that iterates through each item in list"
   ]
  },
  {
   "cell_type": "code",
   "execution_count": null,
   "metadata": {
    "vscode": {
     "languageId": "java"
    }
   },
   "outputs": [],
   "source": [
    "private int findMin(Arraylist<Integer> values) {\n",
    "    int min=INTEGER_MAX_VALUE;\n",
    "    for (int currentValue:values) [\n",
    "        \n",
    "    ]\n",
    "}"
   ]
  },
  {
   "cell_type": "markdown",
   "metadata": {},
   "source": [
    "Search: arrays and lists, queues and stacks"
   ]
  },
  {
   "cell_type": "markdown",
   "metadata": {},
   "source": [
    "### Homework\n",
    "- Sort an ArrayList in descending order and swap the first and last elements\n",
    "- Return \"ascending\" if the list is sorted in ascending order, return \"descending\" if it is descending, and return \"neither\" if neither"
   ]
  },
  {
   "cell_type": "code",
   "execution_count": 18,
   "metadata": {
    "vscode": {
     "languageId": "java"
    }
   },
   "outputs": [
    {
     "name": "stdout",
     "output_type": "stream",
     "text": [
      "[The Great Gatsby, The Brothers Karamazov, Hamlet, Great Expectations, Frankenstein, Fahrenheit 451]\n",
      "[Fahrenheit 451, The Brothers Karamazov, Hamlet, Great Expectations, Frankenstein, The Great Gatsby]\n"
     ]
    }
   ],
   "source": [
    "ArrayList<String> books = new ArrayList<String>(); // creating arraylist\n",
    "\n",
    "books.add(\"Great Expectations\");\n",
    "books.add(\"The Brothers Karamazov\");\n",
    "books.add(\"Frankenstein\");\n",
    "books.add(\"Fahrenheit 451\");\n",
    "books.add(\"The Great Gatsby\");\n",
    "books.add(\"Hamlet\");\n",
    "\n",
    "Collections.sort(books, Collections.reverseOrder());\n",
    "\n",
    "System.out.println(books); // showing sorted books in descending order\n",
    "\n",
    "String temp1 = books.get(0); // assigning temp1 to store first item in sorted list\n",
    "String temp2 = books.get(books.size()-1); // temp2 holds last item\n",
    "\n",
    "books.set(0, temp2); // setting first item as temp2 (last item)\n",
    "books.set(books.size()-1, temp1); // setting last string as temp1 (first)\n",
    "\n",
    "System.out.println(books); // printing"
   ]
  },
  {
   "cell_type": "code",
   "execution_count": 27,
   "metadata": {
    "vscode": {
     "languageId": "java"
    }
   },
   "outputs": [
    {
     "ename": "IllegalStateException",
     "evalue": "No result with key: ",
     "output_type": "error",
     "traceback": [
      "\u001b[1m\u001b[31m---------------------------------------------------------------------------\u001b[0m",
      "\u001b[1m\u001b[31mjava.lang.IllegalStateException: No result with key: \u001b[0m",
      "\u001b[1m\u001b[31m\tat io.github.spencerpark.ijava.execution.IJavaExecutionControl.takeResult(IJavaExecutionControl.java:90)\u001b[0m",
      "\u001b[1m\u001b[31m\tat io.github.spencerpark.ijava.execution.CodeEvaluator.evalSingle(CodeEvaluator.java:92)\u001b[0m",
      "\u001b[1m\u001b[31m\tat io.github.spencerpark.ijava.execution.CodeEvaluator.eval(CodeEvaluator.java:147)\u001b[0m",
      "\u001b[1m\u001b[31m\tat io.github.spencerpark.ijava.JavaKernel.evalRaw(JavaKernel.java:276)\u001b[0m",
      "\u001b[1m\u001b[31m\tat io.github.spencerpark.ijava.JavaKernel.eval(JavaKernel.java:281)\u001b[0m",
      "\u001b[1m\u001b[31m\tat io.github.spencerpark.jupyter.kernel.BaseKernel.handleExecuteRequest(BaseKernel.java:334)\u001b[0m",
      "\u001b[1m\u001b[31m\tat io.github.spencerpark.jupyter.channels.ShellChannel.lambda$bind$0(ShellChannel.java:64)\u001b[0m",
      "\u001b[1m\u001b[31m\tat io.github.spencerpark.jupyter.channels.Loop.lambda$new$0(Loop.java:21)\u001b[0m",
      "\u001b[1m\u001b[31m\tat io.github.spencerpark.jupyter.channels.Loop.run(Loop.java:78)\u001b[0m"
     ]
    }
   ],
   "source": [
    "ArrayList<String> books = new ArrayList<String>(); // creating arraylist\n",
    "\n",
    "books.add(\"Great Expectations\");\n",
    "books.add(\"The Brothers Karamazov\");\n",
    "books.add(\"Frankenstein\");\n",
    "books.add(\"Fahrenheit 451\");\n",
    "books.add(\"The Great Gatsby\");\n",
    "books.add(\"Hamlet\");\n",
    "\n",
    "ArrayList<String> books2 = new ArrayList<>(books); // making books2 (copy of books) for testing\n",
    "\n",
    "Collections.sort(books2, Collections.reverseOrder());\n",
    "if (books == books2) {\n",
    "    return true;\n",
    "}\n",
    "\n",
    "Collections.sort(books2);\n",
    "if (books == books2) {\n",
    "    return true;\n",
    "}\n",
    "\n",
    "else {\n",
    "    return false;\n",
    "}"
   ]
  }
 ],
 "metadata": {
  "kernelspec": {
   "display_name": "Java",
   "language": "java",
   "name": "java"
  },
  "language_info": {
   "codemirror_mode": "java",
   "file_extension": ".jshell",
   "mimetype": "text/x-java-source",
   "name": "Java",
   "pygments_lexer": "java",
   "version": "17.0.5+9-LTS-191"
  },
  "orig_nbformat": 4
 },
 "nbformat": 4,
 "nbformat_minor": 2
}
