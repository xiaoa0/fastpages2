{
 "cells": [
  {
   "cell_type": "markdown",
   "metadata": {},
   "source": [
    "# \"Unit 4: Iteration\"\n",
    "\n",
    "- category: [CBUnits]"
   ]
  },
  {
   "cell_type": "markdown",
   "metadata": {},
   "source": [
    "### What is Iteration?\n",
    "- Reepated sequences to simply advanced code\n",
    "- Operators include ++ or -- (urary), arithmetic (basic forms), and more (see table)"
   ]
  },
  {
   "cell_type": "markdown",
   "metadata": {},
   "source": [
    "### Loops\n",
    "- While loop: loops WHILE a condition is true, can also check inputs\n",
    "- For loop: loops FOR as long as a condition is met, stops after\n",
    "- Recursion: function calls ITSELF to repeat (recursing)\n",
    "- Nested iteration: loop inside a loop"
   ]
  }
 ],
 "metadata": {
  "kernelspec": {
   "display_name": "Java",
   "language": "java",
   "name": "java"
  },
  "language_info": {
   "name": "java"
  },
  "orig_nbformat": 4
 },
 "nbformat": 4,
 "nbformat_minor": 2
}
