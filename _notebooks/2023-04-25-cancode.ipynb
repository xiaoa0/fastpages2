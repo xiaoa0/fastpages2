{
 "cells": [
  {
   "attachments": {},
   "cell_type": "markdown",
   "metadata": {},
   "source": [
    "# CanCode lesson homework (Units 5, 9, 10)"
   ]
  },
  {
   "attachments": {},
   "cell_type": "markdown",
   "metadata": {},
   "source": [
    "[Homework page](https://delnorte-csa.vercel.app/page/homework)"
   ]
  },
  {
   "cell_type": "code",
   "execution_count": 2,
   "metadata": {
    "vscode": {
     "languageId": "java"
    }
   },
   "outputs": [],
   "source": [
    "public class Student {\n",
    "    // private attributes\n",
    "    private String name;\n",
    "    private int age;\n",
    "    \n",
    "    // public attributes\n",
    "    public String major;\n",
    "    \n",
    "    // private method\n",
    "    private void setAge(int age) {\n",
    "        if (age > 0) {\n",
    "            this.age = age;\n",
    "        }\n",
    "    }\n",
    "    \n",
    "    // public methods\n",
    "    public void setNameAndAge(String name, int age) {\n",
    "        this.name = name;\n",
    "        setAge(age);\n",
    "    }\n",
    "    \n",
    "    public String getNameAndAge() {\n",
    "        return name + \" (\" + age + \")\";\n",
    "    }\n",
    "\n",
    "    public static void main(String[] args) {\n",
    "        Student student1 = new Student();\n",
    "        person1.setNameAndAge(\"Jack\", 19);\n",
    "        person1.major = \"Biology\";\n",
    "        System.out.println(\"Person 1: \" + person1.getNameAndAge() + \", \" + person1.major);\n",
    "    }\n",
    "}\n"
   ]
  },
  {
   "cell_type": "code",
   "execution_count": 5,
   "metadata": {
    "vscode": {
     "languageId": "java"
    }
   },
   "outputs": [],
   "source": [
    "class Vehicle {\n",
    "    // methods and attributes\n",
    "    private String name;\n",
    "\n",
    "    public Vehicle(String name){\n",
    "        this.name = name;\n",
    "    }\n",
    "\n",
    "    public String getName(){\n",
    "        return name;\n",
    "    }\n",
    "    \n",
    "    public void honk() {\n",
    "        System.out.println(\"Honk\");\n",
    "    }\n",
    "\n",
    "}\n",
    "\n",
    "class Car extends Vehicle {\n",
    "    // methods and attributes\n",
    "    public Car(String name){\n",
    "        super(name);\n",
    "    }\n",
    "\n",
    "    public static void main(String[] args) {\n",
    "      // new car object\n",
    "      Car myCar = new Car(\"Tesla\");\n",
    "      // Calling method\n",
    "      myCar.honk();\n",
    "\n",
    "      System.out.println(myCar.getName());\n",
    "    }\n",
    "\n",
    "}\n"
   ]
  },
  {
   "cell_type": "code",
   "execution_count": 3,
   "metadata": {
    "vscode": {
     "languageId": "java"
    }
   },
   "outputs": [],
   "source": [
    "// hack 4 recursion\n",
    "\n",
    "public class Fibonacci {\n",
    "    public static int fibonacci(int n) {\n",
    "        if (n <= 1) {\n",
    "            return n;\n",
    "        } else {\n",
    "            return fibonacci(n-1) + fibonacci(n-2);\n",
    "        }\n",
    "    }\n",
    "    \n",
    "    public static void main(String[] args) {\n",
    "        int n = 10;\n",
    "        for (int i = 0; i < n; i++) {\n",
    "            System.out.print(fibonacci(i) + \" \");\n",
    "        }\n",
    "    }\n",
    "}\n"
   ]
  }
 ],
 "metadata": {
  "kernelspec": {
   "display_name": "Java",
   "language": "java",
   "name": "java"
  },
  "language_info": {
   "codemirror_mode": "java",
   "file_extension": ".jshell",
   "mimetype": "text/x-java-source",
   "name": "Java",
   "pygments_lexer": "java",
   "version": "17.0.5+8"
  },
  "orig_nbformat": 4
 },
 "nbformat": 4,
 "nbformat_minor": 2
}
