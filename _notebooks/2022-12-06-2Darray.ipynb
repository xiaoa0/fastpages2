{
 "cells": [
  {
   "cell_type": "markdown",
   "metadata": {},
   "source": [
    "# \"Unit 8: 2D Arrays\"\n",
    "\n",
    "- categories: [CBUnits, jupyter]"
   ]
  },
  {
   "cell_type": "markdown",
   "metadata": {},
   "source": [
    "2d array is array with two _____"
   ]
  },
  {
   "cell_type": "markdown",
   "metadata": {},
   "source": [
    "How to initialize"
   ]
  },
  {
   "cell_type": "code",
   "execution_count": null,
   "metadata": {},
   "outputs": [],
   "source": [
    "int [] [] "
   ]
  },
  {
   "cell_type": "code",
   "execution_count": null,
   "metadata": {},
   "outputs": [],
   "source": [
    "String[][] alphabet = \n",
    "\n",
    "for (int i = 0, )"
   ]
  },
  {
   "cell_type": "markdown",
   "metadata": {},
   "source": [
    "### Homework\n",
    "\n",
    "- Create a class for 2D array learning.\n",
    "- Create a method too initialize a 2D array with arbitrary values\n",
    "- Create a method to reverse the 2D array and print out the values\n",
    "- Create a method that asks for the input of a position and it returns the corresponding value\n",
    "- Create a method that multiplies each value in a row and then adds all the products together\n",
    "- Create a new object to test out each method in the main function"
   ]
  }
 ],
 "metadata": {
  "kernelspec": {
   "display_name": "Java",
   "language": "java",
   "name": "java"
  },
  "language_info": {
   "name": "java"
  },
  "orig_nbformat": 4
 },
 "nbformat": 4,
 "nbformat_minor": 2
}
