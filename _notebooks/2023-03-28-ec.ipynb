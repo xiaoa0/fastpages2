{
 "cells": [
  {
   "attachments": {},
   "cell_type": "markdown",
   "metadata": {},
   "source": [
    "# CSU San Marcos reflection\n",
    "\n",
    "- categories: [notes]"
   ]
  },
  {
   "attachments": {},
   "cell_type": "markdown",
   "metadata": {},
   "source": [
    "## Lessons from University\n",
    "- It's okay to fail as long as you don't stop trying\n",
    "- Campus size does matter: you'll want to connect with professors and other sources of support such as tutoring services\n",
    "- CS skills are used in almost every STEM field. It's good to have some coding experience for positions\n",
    "\n",
    "### How to Find Internship Opportunities\n",
    "- Network at campus events\n",
    "- Check outreach spam for good opportunities\n",
    "- Avoid unpaid positions\n",
    "- Apply even if you feel unqualified\n",
    "- Don't be afraid to ask faculty members for help\n",
    "\n",
    "### Scholarship vs. grant\n",
    "- Scholarship: determined by stuff like income, sometimes granted automatically based on qualities like grade, major, ethnicity, etc.\n",
    "- Check websites for department-based scholarships\n",
    "- Declare yourself independent on tax forms ASAP\n",
    "- Loans: long-term commitment, avoid if possible\n",
    "- Subsidized loans are given by government based on financial need and Dept of Education covers interest for a certain period past graduation\n",
    "- Unsubsidized loans are also from government and do not depend on need, but student covers all interest"
   ]
  },
  {
   "attachments": {},
   "cell_type": "markdown",
   "metadata": {},
   "source": [
    "## Reflection\n",
    "\n",
    "This presentation taught me a lot about the educational and cross-disciplinary research opportunities available during college. I think one aspect I was concerned about even during the application process was limiting myself to one major. Although I applied for computer and data science, I discovered a love for engineering and materials science through a lab research program at SDSU. I learned that it is possible to explore computer science and its applications in different fields (physics and quantum computing). This event gave me a better sense of preparedness and I am more confident that finding more computer science opportunities in college will provide me with valuable experience and applicable skills."
   ]
  }
 ],
 "metadata": {
  "kernelspec": {
   "display_name": "Java",
   "language": "java",
   "name": "java"
  },
  "language_info": {
   "name": "java"
  },
  "orig_nbformat": 4
 },
 "nbformat": 4,
 "nbformat_minor": 2
}
