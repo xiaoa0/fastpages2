{
 "cells": [
  {
   "cell_type": "markdown",
   "metadata": {},
   "source": [
    "# \"Unit 6: Arrays\"\n",
    "\n",
    "- categories: [CBUnits, jupyter]"
   ]
  },
  {
   "cell_type": "markdown",
   "metadata": {},
   "source": [
    "### Homework\n",
    "\n",
    "Write a class called ArrayMethods that contains two methods that utilize/manipulate an array. You may choose 2 of the 4 options below to complete. Extra credit for doing all 4 options. Make sure to show test cases for all of the options you choose.\n",
    "\n",
    "Options for hacks (Pick two):\n",
    "\n",
    "- Swap the first and last element in the array\n",
    "- Replace all even elements with 0"
   ]
  },
  {
   "cell_type": "code",
   "execution_count": 17,
   "metadata": {
    "vscode": {
     "languageId": "java"
    }
   },
   "outputs": [],
   "source": [
    "public class ArrayMethods {\n",
    "    private int[] values = {1, 2, 3, 4, 5, 6};\n",
    "\n",
    "    public void printElements(){\n",
    "        for(int i = 0; i < values.length; i++){\n",
    "            System.out.println(values[i]);\n",
    "        }\n",
    "    }\n",
    "\n",
    "    public void swapElements(){\n",
    "        int firstElement = values[0];\n",
    "\n",
    "        values[0] = values[values.length-1];\n",
    "        values[values.length-1] = firstElement;\n",
    "    }\n",
    "\n",
    "    public void evenZeroes() {\n",
    "        for (int i = 0; i <= values.length-1; i++) {  \n",
    "            if (values[i] / 2 == 0) {  \n",
    "                values[i] = 0;  \n",
    "              }\n",
    "        }\n",
    "    }\n",
    "\n",
    "    public static void main(String[] args) {\n",
    "\n",
    "        \n",
    "    \n",
    "    }\n",
    "}\n",
    "\n",
    "ArrayMethods.main(null);"
   ]
  }
 ],
 "metadata": {
  "kernelspec": {
   "display_name": "Java",
   "language": "java",
   "name": "java"
  },
  "language_info": {
   "codemirror_mode": "java",
   "file_extension": ".jshell",
   "mimetype": "text/x-java-source",
   "name": "Java",
   "pygments_lexer": "java",
   "version": "17.0.5+8"
  },
  "orig_nbformat": 4
 },
 "nbformat": 4,
 "nbformat_minor": 2
}
