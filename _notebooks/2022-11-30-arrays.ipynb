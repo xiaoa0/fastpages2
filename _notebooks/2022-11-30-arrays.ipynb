{
 "cells": [
  {
   "cell_type": "markdown",
   "metadata": {},
   "source": [
    "# \"Unit 6: Arrays\"\n",
    "\n",
    "- categories: [CBUnits, jupyter]"
   ]
  },
  {
   "cell_type": "markdown",
   "metadata": {},
   "source": [
    "### Homework\n",
    "\n",
    "Write a class called ArrayMethods that contains two methods that utilize/manipulate an array. You may choose 2 of the 4 options below to complete. Extra credit for doing all 4 options. Make sure to show test cases for all of the options you choose.\n",
    "\n",
    "Options for hacks (Pick two):\n",
    "\n",
    "- Swap the first and last element in the array\n",
    "- Replace all even elements with 0\n",
    "- Return true if the array is currently sorted in increasing order\n",
    "- Return true if the array contains duplicate elements"
   ]
  },
  {
   "cell_type": "code",
   "execution_count": null,
   "metadata": {},
   "outputs": [],
   "source": [
    "// Write array methods for the Array Methods class below out of the options given above.\n",
    "public class ArrayMethods {\n",
    "    private int[] values;\n",
    "}\n"
   ]
  }
 ],
 "metadata": {
  "kernelspec": {
   "display_name": "Java",
   "language": "java",
   "name": "java"
  },
  "language_info": {
   "name": "java"
  },
  "orig_nbformat": 4
 },
 "nbformat": 4,
 "nbformat_minor": 2
}
