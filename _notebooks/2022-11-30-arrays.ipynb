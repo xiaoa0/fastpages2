{
 "cells": [
  {
   "cell_type": "markdown",
   "metadata": {},
   "source": [
    "# \"Unit 6: Arrays\"\n",
    "\n",
    "- categories: [CBUnits, jupyter]"
   ]
  },
  {
   "cell_type": "markdown",
   "metadata": {},
   "source": [
    "### Homework\n",
    "\n",
    "Write a class called ArrayMethods that contains two methods that utilize/manipulate an array. You may choose 2 of the 4 options below to complete. Extra credit for doing all 4 options. Make sure to show test cases for all of the options you choose.\n",
    "\n",
    "Options for hacks (Pick two):\n",
    "\n",
    "- Swap the first and last element in the array\n",
    "- Replace all even elements with 0"
   ]
  },
  {
   "cell_type": "code",
   "execution_count": 9,
   "metadata": {},
   "outputs": [
    {
     "ename": "CompilationException",
     "evalue": "",
     "output_type": "error",
     "traceback": [
      "\u001b[1m\u001b[30m|   \u001b[1m\u001b[30m            System.out.println(\u001b[0m\u001b[1m\u001b[30m\u001b[41mi\u001b[0m\u001b[1m\u001b[30m);\u001b[0m",
      "\u001b[1m\u001b[31mcannot find symbol\u001b[0m",
      "\u001b[1m\u001b[31m  symbol:   variable i\u001b[0m",
      "",
      "\u001b[1m\u001b[30m|   \u001b[1m\u001b[30m        numbers[\u001b[0m\u001b[1m\u001b[30m\u001b[41mvalues\u001b[0m\u001b[1m\u001b[30m.length-1] = firstElement;\u001b[0m",
      "\u001b[1m\u001b[31mcannot find symbol\u001b[0m",
      "\u001b[1m\u001b[31m  symbol:   variable values\u001b[0m",
      "",
      "\u001b[1m\u001b[30m|   \u001b[1m\u001b[30m        System.out.println(\"Original values: \" + \u001b[0m\u001b[1m\u001b[30m\u001b[41mnumbers\u001b[0m\u001b[1m\u001b[30m);\u001b[0m",
      "\u001b[1m\u001b[31mnon-static variable numbers cannot be referenced from a static context\u001b[0m",
      "",
      "\u001b[1m\u001b[30m|   \u001b[1m\u001b[30m        \u001b[0m\u001b[1m\u001b[30m\u001b[41mArray\u001b[0m\u001b[1m\u001b[30m swappedNumbers = new Array();\u001b[0m",
      "\u001b[1m\u001b[31mcannot find symbol\u001b[0m",
      "\u001b[1m\u001b[31m  symbol:   class Array\u001b[0m",
      "",
      "\u001b[1m\u001b[30m|   \u001b[1m\u001b[30m        Array swappedNumbers = new \u001b[0m\u001b[1m\u001b[30m\u001b[41mArray\u001b[0m\u001b[1m\u001b[30m();\u001b[0m",
      "\u001b[1m\u001b[31mcannot find symbol\u001b[0m",
      "\u001b[1m\u001b[31m  symbol:   class Array\u001b[0m",
      "",
      "\u001b[1m\u001b[30m|   \u001b[1m\u001b[30m        \u001b[0m\u001b[1m\u001b[30m\u001b[41mArray\u001b[0m\u001b[1m\u001b[30m zeroEvens = new Array();\u001b[0m",
      "\u001b[1m\u001b[31mcannot find symbol\u001b[0m",
      "\u001b[1m\u001b[31m  symbol:   class Array\u001b[0m",
      "",
      "\u001b[1m\u001b[30m|   \u001b[1m\u001b[30m        Array zeroEvens = new \u001b[0m\u001b[1m\u001b[30m\u001b[41mArray\u001b[0m\u001b[1m\u001b[30m();\u001b[0m",
      "\u001b[1m\u001b[31mcannot find symbol\u001b[0m",
      "\u001b[1m\u001b[31m  symbol:   class Array\u001b[0m",
      ""
     ]
    }
   ],
   "source": [
    "// Write array methods for the Array Methods class below out of the options given above.\n",
    "public class ArrayMethods {\n",
    "    public int[] numbers = {1, 2, 3, 4, 5, 6, 7, 8, 9, 10};\n",
    "\n",
    "    public void printNumbers() {\n",
    "        for (int element : numbers) {\n",
    "            System.out.println(i);\n",
    "        }\n",
    "    }\n",
    "\n",
    "    public void swapNumbers() {\n",
    "        int firstElement = numbers[0];\n",
    "        int lastElement = numbers[numbers.length-1];\n",
    "\n",
    "        numbers[0] = lastElement;\n",
    "        numbers[values.length-1] = firstElement;\n",
    "    }\n",
    "\n",
    "    public void zeroEven() {\n",
    "        for (int i = 0; i <= numbers.length-1; i++) {  \n",
    "            if (numbers[i] / 2 == 0) {  \n",
    "                numbers[i] = 0;  \n",
    "              }\n",
    "        }\n",
    "    }\n",
    "\n",
    "    public static void main(String[] args) {\n",
    "        System.out.println(\"Original values: \" + numbers);\n",
    "        Array swappedNumbers = new Array();\n",
    "        swappedNumbers.swapNumbers();\n",
    "        System.out.println(\"Swapped first and last values: \" + swappedNumbers);\n",
    "    \n",
    "        Array zeroEvens = new Array();\n",
    "        zeroEvens.zeroEven();\n",
    "        System.out.println(\"Replaced even values with zeroes: \" + zeroEvens);\n",
    "    \n",
    "    }\n",
    "}\n",
    "\n",
    "ArrayMethods.main(null);"
   ]
  }
 ],
 "metadata": {
  "kernelspec": {
   "display_name": "Java",
   "language": "java",
   "name": "java"
  },
  "language_info": {
   "codemirror_mode": "java",
   "file_extension": ".jshell",
   "mimetype": "text/x-java-source",
   "name": "java",
   "pygments_lexer": "java",
   "version": "17.0.5+8"
  },
  "orig_nbformat": 4
 },
 "nbformat": 4,
 "nbformat_minor": 2
}
