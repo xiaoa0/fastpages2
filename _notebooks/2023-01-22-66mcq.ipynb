{
 "cells": [
  {
   "attachments": {},
   "cell_type": "markdown",
   "metadata": {},
   "source": [
    "# 66 Question Practice Reflection\n",
    "- toc: true\n",
    "- category: [jupyter, APprep]"
   ]
  },
  {
   "attachments": {},
   "cell_type": "markdown",
   "metadata": {},
   "source": [
    "## Score: 50/66\n",
    "\n",
    "![](https://raw.githubusercontent.com/xiaoa0/fastpages2/master/images/66qmc.png)"
   ]
  },
  {
   "attachments": {},
   "cell_type": "markdown",
   "metadata": {},
   "source": [
    "## Reflection\n",
    "I think the questions I struggled with the most were the code-based questions because I was out of practice and took a lot of time on them. I also missed some boolean questions because I didn't try to fully work them out with De Morgan's Law. In preparation for the AP Exam I will practice more with booleans and work through each problem completely instead of rushing."
   ]
  },
  {
   "attachments": {},
   "cell_type": "markdown",
   "metadata": {},
   "source": [
    "### Question 5\n",
    "The answer is A, not D. The two ! signs applied to the first term cancel out because we're distributing with De Morgan's law, so the first term is just (a && b).\n",
    "\n",
    "### Question 6\n",
    "The answer is A, not B. randomNumber = 0.70 shows that the code block does not work because of the two consecutive if statements. The event value is first properly assigned as 1, but then changed to 2 because of the following if statement. \n",
    "\n",
    "### Question 10\n",
    "\n",
    "\n",
    "### Question 12\n",
    "\n",
    "### Question 17\n",
    "\n",
    "### Question 21\n",
    "\n",
    "### Question 22\n",
    "\n",
    "### Question 28\n",
    "\n",
    "### Question 42\n",
    "\n",
    "### Question 50\n",
    "\n",
    "### Question 52\n",
    "\n",
    "### Question 53\n",
    "\n",
    "### Question 54\n",
    "\n",
    "### Question 58\n",
    "\n",
    "### Question 59\n",
    "\n",
    "### Question 63"
   ]
  }
 ],
 "metadata": {
  "kernelspec": {
   "display_name": "Java",
   "language": "java",
   "name": "java"
  },
  "language_info": {
   "name": "java"
  },
  "orig_nbformat": 4
 },
 "nbformat": 4,
 "nbformat_minor": 2
}
