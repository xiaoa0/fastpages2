{
 "cells": [
  {
   "cell_type": "markdown",
   "metadata": {},
   "source": [
    "# Units 1-5 Review\n",
    "\n",
    "- toc: true\n",
    "- category: [CBUnits]"
   ]
  },
  {
   "cell_type": "markdown",
   "metadata": {},
   "source": [
    "### Grades\n",
    "\n",
    "| Unit | Grade | Homework |\n",
    "|---|---|---|\n",
    "| 1: Primitives | [0.93/1](https://lychee80.github.io/Test/2022/12/01/grades.html) | [2006 FRQ](https://xiaoa0.github.io/fastpages2/cbunits/2022/10/12/primitives.html) |\n",
    "| 2: Objects | N/A (taught lesson) | [Lesson guide](https://xiaoa0.github.io/fastpages2/cbunits/2022/10/13/objectslesson.html) |\n",
    "| 3: Booleans | 0/1  | Did not complete |\n",
    "| 4: Iteration | [0.8/1](https://docs.google.com/spreadsheets/d/12igVnctnJg7i9oVmRxrkYzZ_Tp3wgeq_AmAuZ4qyLaY/edit#gid=0) | Quiz done separately, [notes](https://xiaoa0.github.io/fastpages2/cbunits/2022/10/18/iteration.html) |\n",
    "| 5: Classes | 0/1 | Did not complete |"
   ]
  },
  {
   "cell_type": "markdown",
   "metadata": {},
   "source": [
    "## Unit 1: Primitives\n",
    "[Link to notebook](https://xiaoa0.github.io/fastpages2/cbunits/2022/10/12/primitives.html)\n",
    "\n",
    "Summary: Primitives are a data type in Java with limited properties (lowercase, varying size, can't call methods). Primitive data types include bool, int, char, double, etc. They can be compared with == instead of .equals()."
   ]
  },
  {
   "cell_type": "markdown",
   "metadata": {},
   "source": [
    "### Casting\n",
    "Casting is when you assign the value of a primitive to another primitive type. It can either widen (smaller to larger type) or narrow (larger to smaller type). "
   ]
  },
  {
   "cell_type": "code",
   "execution_count": 4,
   "metadata": {
    "vscode": {
     "languageId": "java"
    }
   },
   "outputs": [
    {
     "name": "stdout",
     "output_type": "stream",
     "text": [
      "2\n",
      "2.0\n"
     ]
    }
   ],
   "source": [
    "// In this example you can see the difference in data sizes\n",
    "int x = 2;\n",
    "int y = 4;\n",
    "\n",
    "// without casting \n",
    "System.out.println(y/x);\n",
    "\n",
    "// With casting\n",
    "System.out.println((double)y/(double)x);"
   ]
  },
  {
   "cell_type": "code",
   "execution_count": 5,
   "metadata": {
    "vscode": {
     "languageId": "java"
    }
   },
   "outputs": [
    {
     "name": "stdout",
     "output_type": "stream",
     "text": [
      "3.7\n",
      "3\n"
     ]
    }
   ],
   "source": [
    "// this example shows truncating with narrowing\n",
    "double a = 3.7;\n",
    "\n",
    "// without casting\n",
    "System.out.println(a);\n",
    "\n",
    "// with casting\n",
    "System.out.println((int)a);"
   ]
  },
  {
   "cell_type": "markdown",
   "metadata": {},
   "source": [
    "### Wrapper\n",
    "Wrapper classes allow us to use primitives as objects (capitalized data type, think int to Int). One example of this is ArrayList."
   ]
  },
  {
   "cell_type": "code",
   "execution_count": 7,
   "metadata": {
    "vscode": {
     "languageId": "java"
    }
   },
   "outputs": [
    {
     "name": "stdout",
     "output_type": "stream",
     "text": [
      "[1]\n"
     ]
    }
   ],
   "source": [
    "// assign primitive variable\n",
    "int x = 1;\n",
    "\n",
    "// instantiate arraylist of integers\n",
    "ArrayList<Integer> intList = new ArrayList<Integer>();\n",
    "\n",
    "// create Integer from int\n",
    "Integer a_wrapper = new Integer(x);\n",
    "intList.add(x);\n",
    "\n",
    "System.out.println(intList);"
   ]
  },
  {
   "cell_type": "markdown",
   "metadata": {},
   "source": [
    "## Unit 2: Objects\n",
    "[Link to notebook](https://xiaoa0.github.io/fastpages2/cbunits/2022/10/13/objectslesson.html)\n",
    "\n",
    "Summary: Objects are instances of a class. They inherit properties from the class, which greatly simplifies attribute management. Methods in objects can be void or return something."
   ]
  },
  {
   "cell_type": "markdown",
   "metadata": {},
   "source": [
    "### Concatenation\n",
    "Concatenation allows you to combine strings. You can also combine non-strings with toString()"
   ]
  },
  {
   "cell_type": "code",
   "execution_count": 9,
   "metadata": {
    "vscode": {
     "languageId": "java"
    }
   },
   "outputs": [
    {
     "name": "stdout",
     "output_type": "stream",
     "text": [
      "Hippopotamus\n",
      "Hippo12\n"
     ]
    }
   ],
   "source": [
    "// assigning variables\n",
    "String x = \"Hippo\";\n",
    "String y = \"pota\";\n",
    "String z = \"mus\";\n",
    "int a = 12;\n",
    "\n",
    "// concatenating all strings\n",
    "System.out.println(x + y + z);\n",
    "\n",
    "// concatenate x \"Hippo\" and int a\n",
    "System.out.println(x + a);"
   ]
  },
  {
   "cell_type": "markdown",
   "metadata": {},
   "source": [
    "### Math class\n",
    "Math class allows you to use more math functions such as finding the max of two numbers or square roots. In this case,  we will focus on Math.random()"
   ]
  },
  {
   "cell_type": "code",
   "execution_count": 12,
   "metadata": {
    "vscode": {
     "languageId": "java"
    }
   },
   "outputs": [
    {
     "name": "stdout",
     "output_type": "stream",
     "text": [
      "48\n"
     ]
    }
   ],
   "source": [
    "import java.lang.Math; // importing\n",
    "\n",
    "// by itself\n",
    "Math.random(); // generates random number between 0 and 1, inclusive\n",
    "\n",
    "// can multiply by integer to expand range (0-100)\n",
    "int randomNumber = (int)(Math.random() * 101);  \n",
    "System.out.println(randomNumber);"
   ]
  },
  {
   "cell_type": "markdown",
   "metadata": {},
   "source": [
    "### Comparisons\n",
    "Numbers can be compared with ==. Strings (objects) must be compared with equals()."
   ]
  },
  {
   "cell_type": "code",
   "execution_count": 13,
   "metadata": {
    "vscode": {
     "languageId": "java"
    }
   },
   "outputs": [
    {
     "name": "stdout",
     "output_type": "stream",
     "text": [
      "true\n",
      "false\n"
     ]
    }
   ],
   "source": [
    "// assigning variables\n",
    "int x = 2;\n",
    "int y = 2;\n",
    "int z = 1;\n",
    "\n",
    "// return True\n",
    "System.out.println(x == y);\n",
    "\n",
    "// return False\n",
    "System.out.println(x == z);"
   ]
  },
  {
   "cell_type": "code",
   "execution_count": 15,
   "metadata": {
    "vscode": {
     "languageId": "java"
    }
   },
   "outputs": [
    {
     "name": "stdout",
     "output_type": "stream",
     "text": [
      "false\n",
      "true\n"
     ]
    }
   ],
   "source": [
    "// assigning strings\n",
    "String a = \"Hi\";\n",
    "String b = \"Bye\";\n",
    "String c = \"Hi\";\n",
    "\n",
    "// this should return false\n",
    "System.out.println(a.equals(b));\n",
    "// this should return true\n",
    "System.out.println(a.equals(c));"
   ]
  },
  {
   "cell_type": "markdown",
   "metadata": {},
   "source": [
    "## Unit 3: Booleans\n",
    "Booleans can only hold one of two possible values, true or false. They are the simplest data type, and are often used to check loop conditions with >, <, or ==."
   ]
  },
  {
   "cell_type": "markdown",
   "metadata": {},
   "source": [
    "### Compound boolean expression\n",
    "A compound boolean is one that involves several boolean variables."
   ]
  },
  {
   "cell_type": "code",
   "execution_count": 21,
   "metadata": {
    "vscode": {
     "languageId": "java"
    }
   },
   "outputs": [
    {
     "name": "stdout",
     "output_type": "stream",
     "text": [
      "true\n",
      "false\n",
      "true\n"
     ]
    }
   ],
   "source": [
    "// simple expression\n",
    "boolean x = true;\n",
    "boolean y = false;\n",
    "System.out.println(x);\n",
    "System.out.println(y);\n",
    "\n",
    "// compound\n",
    "boolean compound = !(x && y) || (x || y) && !(x || y);\n",
    "System.out.println(compound)"
   ]
  },
  {
   "cell_type": "markdown",
   "metadata": {},
   "source": [
    "### DeMorgan's Law\n",
    "Essentially !(a && b) = !a || !b and !(a || b) = !a && !b. You distribute the negation of the and expression to each of the individual components of the or expression, and vice versa.\n"
   ]
  },
  {
   "cell_type": "code",
   "execution_count": 24,
   "metadata": {
    "vscode": {
     "languageId": "java"
    }
   },
   "outputs": [
    {
     "name": "stdout",
     "output_type": "stream",
     "text": [
      "false\n"
     ]
    }
   ],
   "source": [
    "boolean x = false;\n",
    "boolean y = false;\n",
    "\n",
    "// De Morgan's Law two\n",
    "boolean testDMLaw = !(!x || !y) && !(!x && !y);\n",
    "System.out.println(testDMLaw);"
   ]
  },
  {
   "cell_type": "markdown",
   "metadata": {},
   "source": [
    "## Unit 4: Iteration\n",
    "[Link to notebook](https://xiaoa0.github.io/fastpages2/cbunits/2022/10/18/iteration.html)"
   ]
  },
  {
   "cell_type": "markdown",
   "metadata": {},
   "source": [
    "## Unit 5: Classes"
   ]
  }
 ],
 "metadata": {
  "kernelspec": {
   "display_name": "Java",
   "language": "java",
   "name": "java"
  },
  "language_info": {
   "codemirror_mode": "java",
   "file_extension": ".jshell",
   "mimetype": "text/x-java-source",
   "name": "Java",
   "pygments_lexer": "java",
   "version": "17.0.5+8"
  },
  "orig_nbformat": 4,
  "vscode": {
   "interpreter": {
    "hash": "d805617afbb4f0c1c1591ddf7a48349c925092e949d00eefe7ca93909b4ab948"
   }
  }
 },
 "nbformat": 4,
 "nbformat_minor": 2
}
