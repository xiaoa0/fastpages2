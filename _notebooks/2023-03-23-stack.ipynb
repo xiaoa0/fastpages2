{
 "cells": [
  {
   "attachments": {},
   "cell_type": "markdown",
   "metadata": {},
   "source": [
    "# Queue and Stack Hacks\n",
    "\n",
    "- categories: [jupyter]"
   ]
  },
  {
   "cell_type": "code",
   "execution_count": 4,
   "metadata": {
    "vscode": {
     "languageId": "java"
    }
   },
   "outputs": [
    {
     "name": "stdout",
     "output_type": "stream",
     "text": [
      "Enqueued data: seven\n",
      "Words count: 1, data: seven\n",
      "\n",
      "Enqueued data: slimy\n",
      "Words count: 2, data: seven slimy\n",
      "\n",
      "Enqueued data: snakes\n",
      "Words count: 3, data: seven slimy snakes\n",
      "\n",
      "Enqueued data: sallying\n",
      "Words count: 4, data: seven slimy snakes sallying\n",
      "\n",
      "Enqueued data: slowly\n",
      "Words count: 5, data: seven slimy snakes sallying slowly\n",
      "\n",
      "Enqueued data: slithered\n",
      "Words count: 6, data: seven slimy snakes sallying slowly slithered\n",
      "\n",
      "Enqueued data: southward\n",
      "Words count: 7, data: seven slimy snakes sallying slowly slithered southward\n",
      "\n",
      "Dequeued data: slimy\n",
      "Words count: 5, data: snakes sallying slowly slithered southward\n",
      "\n",
      "Dequeued data: snakes\n",
      "Words count: 4, data: sallying slowly slithered southward\n",
      "\n",
      "Dequeued data: sallying\n",
      "Words count: 3, data: slowly slithered southward\n",
      "\n",
      "Dequeued data: slowly\n",
      "Words count: 2, data: slithered southward\n",
      "\n",
      "Dequeued data: slithered\n",
      "Words count: 1, data: southward\n",
      "\n",
      "Dequeued data: southward\n",
      "Words count: 0, data: \n",
      "\n"
     ]
    }
   ],
   "source": [
    "public class QueueExample {\n",
    "    public static void main(String[] args) {\n",
    "        Queue<String> queue = new LinkedList<String>();\n",
    "\n",
    "        // Adding elements to the queue\n",
    "        queue.add(\"seven\");\n",
    "        System.out.println(\"Enqueued data: \" + \"seven\");\n",
    "        printQueue(queue);\n",
    "\n",
    "        queue.add(\"slimy\");\n",
    "        System.out.println(\"Enqueued data: \" + \"slimy\");\n",
    "        printQueue(queue);\n",
    "\n",
    "        queue.add(\"snakes\");\n",
    "        System.out.println(\"Enqueued data: \" + \"snakes\");\n",
    "        printQueue(queue);\n",
    "\n",
    "        queue.add(\"sallying\");\n",
    "        System.out.println(\"Enqueued data: \" + \"sallying\");\n",
    "        printQueue(queue);\n",
    "\n",
    "        queue.add(\"slowly\");\n",
    "        System.out.println(\"Enqueued data: \" + \"slowly\");\n",
    "        printQueue(queue);\n",
    "\n",
    "        queue.add(\"slithered\");\n",
    "        System.out.println(\"Enqueued data: \" + \"slithered\");\n",
    "        printQueue(queue);\n",
    "\n",
    "        queue.add(\"southward\");\n",
    "        System.out.println(\"Enqueued data: \" + \"southward\");\n",
    "        printQueue(queue);\n",
    "\n",
    "        // Removing elements from the queue\n",
    "        String data =queue.remove();\n",
    "        \n",
    "        while (queue.size() > 0) {\n",
    "            data = queue.remove();\n",
    "            System.out.println(\"Dequeued data: \" + data);\n",
    "            printQueue(queue);\n",
    "        }\n",
    "\n",
    "        \n",
    "    }\n",
    "\n",
    "    // Helper method to print the contents of the queue\n",
    "    public static void printQueue(Queue<String> queue) {\n",
    "        System.out.println(\"Words count: \" + queue.size() + \", data: \" + String.join(\" \", queue));\n",
    "        System.out.println();\n",
    "    }\n",
    "}\n",
    "\n",
    "QueueExample.main(null);\n"
   ]
  },
  {
   "cell_type": "code",
   "execution_count": 5,
   "metadata": {
    "vscode": {
     "languageId": "java"
    }
   },
   "outputs": [
    {
     "ename": "CompilationException",
     "evalue": "",
     "output_type": "error",
     "traceback": [
      "\u001b[1m\u001b[30m|   \u001b[1m\u001b[30m\u001b[0m\u001b[1m\u001b[30m\u001b[41mnums\u001b[0m\u001b[1m\u001b[30m.add(1);\u001b[0m",
      "\u001b[1m\u001b[31mcannot find symbol\u001b[0m",
      "\u001b[1m\u001b[31m  symbol:   variable nums\u001b[0m",
      ""
     ]
    }
   ],
   "source": [
    "Queue<Integer> nums1 = new LinkedList<Integer>();\n",
    "\n",
    "// Adding elements to the queue\n",
    "nums1.add(1);\n",
    "nums1.add(4);\n",
    "nums1.add(5);\n",
    "nums1.add(8);\n",
    "\n",
    "Queue<Integer> nums2 = new LinkedList<Integer>();\n",
    "\n",
    "// Adding elements to the queue\n",
    "nums2.add(2);\n",
    "nums2.add(3);\n",
    "nums2.add(6);\n",
    "nums2.add(7);\n",
    "\n",
    "Queue<Integer> mergeNums = new LinkedList<Integer>();\n",
    "\n"
   ]
  }
 ],
 "metadata": {
  "kernelspec": {
   "display_name": "Java",
   "language": "java",
   "name": "java"
  },
  "language_info": {
   "codemirror_mode": "java",
   "file_extension": ".jshell",
   "mimetype": "text/x-java-source",
   "name": "Java",
   "pygments_lexer": "java",
   "version": "17.0.5+8"
  },
  "orig_nbformat": 4
 },
 "nbformat": 4,
 "nbformat_minor": 2
}
