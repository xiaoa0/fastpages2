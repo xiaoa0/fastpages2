{
 "cells": [
  {
   "attachments": {},
   "cell_type": "markdown",
   "metadata": {},
   "source": [
    "# \"Unit 9: Inheritance\"\n",
    "\n",
    "- categories: [CBUnits, jupyter]"
   ]
  },
  {
   "attachments": {},
   "cell_type": "markdown",
   "metadata": {},
   "source": [
    "### Notes\n",
    "Inheritance is used to store attributes for subclasses, making abstraction easier and reducing risk of error\n",
    "Subclass constructor has to include \"super\" to access superclass parameters\n",
    "Use @Override to override a method\n",
    "Object superclass is built into Java, used for methods such as "
   ]
  },
  {
   "attachments": {},
   "cell_type": "markdown",
   "metadata": {},
   "source": [
    "### Homework"
   ]
  },
  {
   "attachments": {},
   "cell_type": "markdown",
   "metadata": {},
   "source": [
    "World Cup superclass\n",
    "\n",
    "- Create a world cup superclass with properties of your choice and subclasses for five teams which inherits those properties\n",
    "- Write a constructor for one of those subclasses"
   ]
  },
  {
   "cell_type": "code",
   "execution_count": null,
   "metadata": {},
   "outputs": [],
   "source": [
    "public class WorldCup {\n",
    "    private Integer year = 2022;\n",
    "\n",
    "}\n",
    "\n",
    "public class USA extends WorldCup"
   ]
  },
  {
   "attachments": {},
   "cell_type": "markdown",
   "metadata": {},
   "source": [
    "Teacher extended class\n",
    "\n",
    "- Add a getAge method in the Person super class\n",
    "- Create a new subclass Student with additional members of your choice to personalize the Student class\n",
    "- Create a new subclass Teacher with additiona members of your choice\n",
    "- Override the toString method using the @Override to print a Student and teacher object with new members\n",
    "- Print the student and teacher"
   ]
  },
  {
   "cell_type": "code",
   "execution_count": null,
   "metadata": {},
   "outputs": [],
   "source": [
    "public class Person {\n",
    "    private String name;\n",
    "    private String birthday;\n",
    " \n",
    "    public Person (String name, String birthday){\n",
    "       this.name = name;\n",
    "       this.birthday = birthday;\n",
    "    }\n",
    " \n",
    "    public String getName(){\n",
    "       return name;\n",
    "    }\n",
    " }\n",
    " \n",
    " public class Student extends Person {\n",
    "    private int grade;\n",
    "    private double gpa;\n",
    " \n",
    "    public Student (String name, String birthday, int grade, double gpa) {\n",
    "       super(name, birthday);\n",
    "       this.grade = grade;\n",
    "       this.gpa = gpa;\n",
    "    }\n",
    " \n",
    "    public int getGrade(){\n",
    "       return grade;\n",
    "    }\n",
    " }"
   ]
  }
 ],
 "metadata": {
  "kernelspec": {
   "display_name": "Java",
   "language": "java",
   "name": "java"
  },
  "language_info": {
   "name": "java"
  },
  "orig_nbformat": 4
 },
 "nbformat": 4,
 "nbformat_minor": 2
}
